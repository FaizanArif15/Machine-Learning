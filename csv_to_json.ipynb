{
  "nbformat": 4,
  "nbformat_minor": 0,
  "metadata": {
    "colab": {
      "provenance": []
    },
    "kernelspec": {
      "name": "python3",
      "display_name": "Python 3"
    },
    "language_info": {
      "name": "python"
    }
  },
  "cells": [
    {
      "cell_type": "code",
      "execution_count": 3,
      "metadata": {
        "id": "kf3qusEDsjpa"
      },
      "outputs": [],
      "source": [
        "import csv\n",
        "import json\n",
        "\n",
        "def csv_to_json(csv_file, json_file):\n",
        "    # Read CSV file and convert it to a list of dictionaries\n",
        "    data = []\n",
        "    with open(csv_file, 'r') as file:\n",
        "        reader = csv.DictReader(file)\n",
        "        for row in reader:\n",
        "            data.append(row)\n",
        "\n",
        "    # Write data to JSON file\n",
        "    with open(json_file, 'w') as file:\n",
        "        json.dump(data, file, indent=4)\n",
        "\n",
        "# Usage example\n",
        "csv_to_json('/content/laptops_data.csv', '/content/laptops_data.json')\n"
      ]
    }
  ]
}