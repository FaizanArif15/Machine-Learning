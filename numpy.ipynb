{
  "cells": [
    {
      "cell_type": "markdown",
      "metadata": {
        "id": "y94M08xj96ji"
      },
      "source": [
        "Import Numpy Library in Python"
      ]
    },
    {
      "cell_type": "code",
      "execution_count": 1,
      "metadata": {
        "id": "gUIxZtuN8E-P"
      },
      "outputs": [],
      "source": [
        "import numpy as np"
      ]
    },
    {
      "cell_type": "markdown",
      "metadata": {
        "id": "rZDKuRlI95Es"
      },
      "source": [
        "Creating 1D Array"
      ]
    },
    {
      "cell_type": "code",
      "execution_count": 2,
      "metadata": {
        "colab": {
          "base_uri": "https://localhost:8080/"
        },
        "id": "LFLM0ZKx8Rp0",
        "outputId": "7aa5cc3c-0bd1-4a89-dc5c-b66b487f370d"
      },
      "outputs": [
        {
          "data": {
            "text/plain": [
              "array([1, 2, 3])"
            ]
          },
          "execution_count": 2,
          "metadata": {},
          "output_type": "execute_result"
        }
      ],
      "source": [
        "array_1D = np.array([1,2,3])\n",
        "array_1D"
      ]
    },
    {
      "cell_type": "markdown",
      "metadata": {
        "id": "c1TQd0Qx-bBp"
      },
      "source": [
        "Creating 2D Array"
      ]
    },
    {
      "cell_type": "code",
      "execution_count": 3,
      "metadata": {
        "colab": {
          "base_uri": "https://localhost:8080/"
        },
        "id": "86LiI__E-UKk",
        "outputId": "436772c3-23e3-4da6-95be-cbbd7a3fa69b"
      },
      "outputs": [
        {
          "data": {
            "text/plain": [
              "array([[1, 2, 3],\n",
              "       [4, 5, 6]])"
            ]
          },
          "execution_count": 3,
          "metadata": {},
          "output_type": "execute_result"
        }
      ],
      "source": [
        "array_2D = np.array([[1,2,3],[4,5,6]])\n",
        "array_2D"
      ]
    },
    {
      "cell_type": "markdown",
      "metadata": {
        "id": "rnGwAvJGAo9h"
      },
      "source": [
        "Create Array with 0 Values\n",
        "\n"
      ]
    },
    {
      "cell_type": "code",
      "execution_count": 4,
      "metadata": {
        "colab": {
          "base_uri": "https://localhost:8080/"
        },
        "id": "jZg3VhAn-nZl",
        "outputId": "425d81cb-36cd-4ef7-b54a-f4dcecac769c"
      },
      "outputs": [
        {
          "data": {
            "text/plain": [
              "array([[0., 0., 0.],\n",
              "       [0., 0., 0.]])"
            ]
          },
          "execution_count": 4,
          "metadata": {},
          "output_type": "execute_result"
        }
      ],
      "source": [
        "zeroes_array = np.zeros((2,3))\n",
        "zeroes_array"
      ]
    },
    {
      "cell_type": "markdown",
      "metadata": {
        "id": "CV7O-nolAflp"
      },
      "source": [
        "Create Array with 1's Values"
      ]
    },
    {
      "cell_type": "code",
      "execution_count": 5,
      "metadata": {
        "colab": {
          "base_uri": "https://localhost:8080/"
        },
        "id": "rH7VS5Fy_vJG",
        "outputId": "d31fd781-e902-44d7-9770-44912e65a4ce"
      },
      "outputs": [
        {
          "data": {
            "text/plain": [
              "array([[1., 1., 1., 1.],\n",
              "       [1., 1., 1., 1.],\n",
              "       [1., 1., 1., 1.],\n",
              "       [1., 1., 1., 1.]])"
            ]
          },
          "execution_count": 5,
          "metadata": {},
          "output_type": "execute_result"
        }
      ],
      "source": [
        "ones_array = np.ones((4,4))\n",
        "ones_array"
      ]
    },
    {
      "cell_type": "markdown",
      "metadata": {
        "id": "-VtuV_baC-0Z"
      },
      "source": [
        "Creat Identity Array"
      ]
    },
    {
      "cell_type": "code",
      "execution_count": 6,
      "metadata": {
        "colab": {
          "base_uri": "https://localhost:8080/"
        },
        "id": "Fw2UQXhgAc2h",
        "outputId": "7d91eb58-1fc1-471b-c8c4-48bf5664694d"
      },
      "outputs": [
        {
          "data": {
            "text/plain": [
              "array([[1., 0., 0.],\n",
              "       [0., 1., 0.],\n",
              "       [0., 0., 1.]])"
            ]
          },
          "execution_count": 6,
          "metadata": {},
          "output_type": "execute_result"
        }
      ],
      "source": [
        "indentity_array = np.identity(3)\n",
        "indentity_array"
      ]
    },
    {
      "cell_type": "markdown",
      "metadata": {
        "id": "I2RzkIk0CzsV"
      },
      "source": [
        "For Loop in Array"
      ]
    },
    {
      "cell_type": "code",
      "execution_count": 7,
      "metadata": {
        "colab": {
          "base_uri": "https://localhost:8080/"
        },
        "id": "hvzC67kICdGM",
        "outputId": "69ff103f-fe8a-4c0c-e153-d7df934c18e9"
      },
      "outputs": [
        {
          "data": {
            "text/plain": [
              "array([2, 4, 6, 8])"
            ]
          },
          "execution_count": 7,
          "metadata": {},
          "output_type": "execute_result"
        }
      ],
      "source": [
        "range_array = np.arange(2,10,2)\n",
        "range_array"
      ]
    },
    {
      "cell_type": "markdown",
      "metadata": {
        "id": "2GLZp0OaDKuF"
      },
      "source": [
        "Array copy using shalow copy tecnique"
      ]
    },
    {
      "cell_type": "code",
      "execution_count": 8,
      "metadata": {
        "colab": {
          "base_uri": "https://localhost:8080/"
        },
        "id": "cVk_czeBCvIG",
        "outputId": "213820f1-d276-43dc-930c-10177a1620d5"
      },
      "outputs": [
        {
          "data": {
            "text/plain": [
              "array([2, 4, 6, 8])"
            ]
          },
          "execution_count": 8,
          "metadata": {},
          "output_type": "execute_result"
        }
      ],
      "source": [
        "copy_array = range_array.copy()\n",
        "copy_array"
      ]
    },
    {
      "cell_type": "markdown",
      "metadata": {
        "id": "d9N5FLxyHTFc"
      },
      "source": [
        "Check rows and column of this array"
      ]
    },
    {
      "cell_type": "code",
      "execution_count": 9,
      "metadata": {
        "colab": {
          "base_uri": "https://localhost:8080/"
        },
        "id": "_F13JVWIDbI_",
        "outputId": "007e638c-6932-4da3-869c-ca94a3aa731a"
      },
      "outputs": [
        {
          "data": {
            "text/plain": [
              "(2, 3)"
            ]
          },
          "execution_count": 9,
          "metadata": {},
          "output_type": "execute_result"
        }
      ],
      "source": [
        "array_2D.shape"
      ]
    },
    {
      "cell_type": "markdown",
      "metadata": {
        "id": "nKo2PDNuGMWn"
      },
      "source": [
        "Create 3D Array"
      ]
    },
    {
      "cell_type": "code",
      "execution_count": 10,
      "metadata": {
        "colab": {
          "base_uri": "https://localhost:8080/"
        },
        "id": "7A9M6lGuFjl3",
        "outputId": "60813774-933e-4a1b-a57f-253d396c8634"
      },
      "outputs": [
        {
          "data": {
            "text/plain": [
              "array([[[2, 6],\n",
              "        [9, 6]],\n",
              "\n",
              "       [[4, 8],\n",
              "        [1, 7]]])"
            ]
          },
          "execution_count": 10,
          "metadata": {},
          "output_type": "execute_result"
        }
      ],
      "source": [
        "array_3D = np.array([[[2,6],[9,6]],[[4,8],[1,7]]])\n",
        "array_3D"
      ]
    },
    {
      "cell_type": "markdown",
      "metadata": {
        "id": "CQuVW15xHirL"
      },
      "source": [
        "Check Dimention of the Array"
      ]
    },
    {
      "cell_type": "code",
      "execution_count": 11,
      "metadata": {
        "colab": {
          "base_uri": "https://localhost:8080/"
        },
        "id": "aITYLhkXF5Sf",
        "outputId": "d2bbc0d0-eaa2-417e-9442-04036d0ccd8b"
      },
      "outputs": [
        {
          "data": {
            "text/plain": [
              "3"
            ]
          },
          "execution_count": 11,
          "metadata": {},
          "output_type": "execute_result"
        }
      ],
      "source": [
        "array_3D.ndim"
      ]
    },
    {
      "cell_type": "markdown",
      "metadata": {
        "id": "gfUnc9isHsWs"
      },
      "source": [
        "Check Size of the Array"
      ]
    },
    {
      "cell_type": "code",
      "execution_count": 12,
      "metadata": {
        "colab": {
          "base_uri": "https://localhost:8080/"
        },
        "id": "SlKaEO3LHo5A",
        "outputId": "0d56fab5-9228-48a8-82bc-ee677a728ef8"
      },
      "outputs": [
        {
          "data": {
            "text/plain": [
              "8"
            ]
          },
          "execution_count": 12,
          "metadata": {},
          "output_type": "execute_result"
        }
      ],
      "source": [
        "array_3D.size"
      ]
    },
    {
      "cell_type": "markdown",
      "metadata": {
        "id": "uPSSn0d9LbH4"
      },
      "source": [
        "Change Shape of the Array"
      ]
    },
    {
      "cell_type": "code",
      "execution_count": 13,
      "metadata": {
        "colab": {
          "base_uri": "https://localhost:8080/"
        },
        "id": "6_Ql0C9CHx5D",
        "outputId": "8d26ba4b-7145-4c7b-ba27-050bfc917eae"
      },
      "outputs": [
        {
          "data": {
            "text/plain": [
              "array([ 0,  1,  2,  3,  4,  5,  6,  7,  8,  9, 10, 11, 12, 13, 14, 15, 16,\n",
              "       17, 18, 19, 20, 21, 22, 23])"
            ]
          },
          "execution_count": 13,
          "metadata": {},
          "output_type": "execute_result"
        }
      ],
      "source": [
        "reshape_array = np.arange(24)\n",
        "reshape_array"
      ]
    },
    {
      "cell_type": "code",
      "execution_count": 14,
      "metadata": {
        "colab": {
          "base_uri": "https://localhost:8080/"
        },
        "id": "UfLgnfRWLpAk",
        "outputId": "8398b041-779b-4d07-f33e-c26403330c62"
      },
      "outputs": [
        {
          "data": {
            "text/plain": [
              "array([[ 0,  1,  2,  3],\n",
              "       [ 4,  5,  6,  7],\n",
              "       [ 8,  9, 10, 11],\n",
              "       [12, 13, 14, 15],\n",
              "       [16, 17, 18, 19],\n",
              "       [20, 21, 22, 23]])"
            ]
          },
          "execution_count": 14,
          "metadata": {},
          "output_type": "execute_result"
        }
      ],
      "source": [
        "reshape_array = reshape_array.reshape(6,4)\n",
        "# reshape_array = reshape_array.reshape(2,12)\n",
        "reshape_array"
      ]
    },
    {
      "cell_type": "code",
      "execution_count": 15,
      "metadata": {
        "colab": {
          "base_uri": "https://localhost:8080/"
        },
        "id": "oiErQD41L5cZ",
        "outputId": "6679563a-2076-4ce9-ae24-04a3ae1202d4"
      },
      "outputs": [
        {
          "data": {
            "text/plain": [
              "array([[ 5,  6],\n",
              "       [ 9, 10],\n",
              "       [13, 14]])"
            ]
          },
          "execution_count": 15,
          "metadata": {},
          "output_type": "execute_result"
        }
      ],
      "source": [
        "reshape_array[1:4,1:3]"
      ]
    },
    {
      "cell_type": "markdown",
      "metadata": {
        "id": "s3EanU_lj3j9"
      },
      "source": [
        "Change Any n Dimentional Array into vector"
      ]
    },
    {
      "cell_type": "code",
      "execution_count": 16,
      "metadata": {
        "colab": {
          "base_uri": "https://localhost:8080/"
        },
        "id": "KPxch5Qpjrcw",
        "outputId": "4d9f233c-3c68-4309-eccd-2a124623ae8f"
      },
      "outputs": [
        {
          "data": {
            "text/plain": [
              "array([1, 2, 3, 4, 5, 6])"
            ]
          },
          "execution_count": 16,
          "metadata": {},
          "output_type": "execute_result"
        }
      ],
      "source": [
        "array_2D.ravel()"
      ]
    },
    {
      "cell_type": "markdown",
      "metadata": {
        "id": "pvTPigToOdKS"
      },
      "source": [
        "Iteration in Arrays"
      ]
    },
    {
      "cell_type": "code",
      "execution_count": 17,
      "metadata": {
        "colab": {
          "base_uri": "https://localhost:8080/"
        },
        "id": "jBYil5OhN_ww",
        "outputId": "3c59517d-bf5e-47f1-a037-b42f161d1e42"
      },
      "outputs": [
        {
          "name": "stdout",
          "output_type": "stream",
          "text": [
            "[1 2 3]\n",
            "[4 5 6]\n"
          ]
        }
      ],
      "source": [
        "for i in array_2D:\n",
        "  print(i)"
      ]
    },
    {
      "cell_type": "code",
      "execution_count": 18,
      "metadata": {
        "colab": {
          "base_uri": "https://localhost:8080/"
        },
        "id": "CX-A5W9lPH_r",
        "outputId": "5c99ce4a-c96f-4d03-f4b9-bce9883e7f9d"
      },
      "outputs": [
        {
          "name": "stdout",
          "output_type": "stream",
          "text": [
            "1\n",
            "2\n",
            "3\n",
            "4\n",
            "5\n",
            "6\n"
          ]
        }
      ],
      "source": [
        "for i in np.nditer(array_2D):\n",
        "  print(i)"
      ]
    },
    {
      "cell_type": "markdown",
      "metadata": {
        "id": "-D9NhxgTg_Uc"
      },
      "source": [
        "Find Minimum Value from Array"
      ]
    },
    {
      "cell_type": "code",
      "execution_count": 19,
      "metadata": {
        "colab": {
          "base_uri": "https://localhost:8080/"
        },
        "id": "VP-e2g9CPd4M",
        "outputId": "92985f57-703c-43de-d49d-4b509bc664b2"
      },
      "outputs": [
        {
          "name": "stdout",
          "output_type": "stream",
          "text": [
            "[1 2 3]\n"
          ]
        },
        {
          "data": {
            "text/plain": [
              "1"
            ]
          },
          "execution_count": 19,
          "metadata": {},
          "output_type": "execute_result"
        }
      ],
      "source": [
        "print(array_1D)\n",
        "array_1D.min()"
      ]
    },
    {
      "cell_type": "markdown",
      "metadata": {
        "id": "qrdBjYISg3Fj"
      },
      "source": [
        "Find Maximum Value from Array"
      ]
    },
    {
      "cell_type": "code",
      "execution_count": 20,
      "metadata": {
        "colab": {
          "base_uri": "https://localhost:8080/"
        },
        "id": "6Hs8bMjlgFg_",
        "outputId": "fe06c2f3-b519-4a67-de9e-df6a6928906b"
      },
      "outputs": [
        {
          "name": "stdout",
          "output_type": "stream",
          "text": [
            "[[1 2 3]\n",
            " [4 5 6]]\n"
          ]
        },
        {
          "data": {
            "text/plain": [
              "6"
            ]
          },
          "execution_count": 20,
          "metadata": {},
          "output_type": "execute_result"
        }
      ],
      "source": [
        "print(array_2D)\n",
        "array_2D.max()"
      ]
    },
    {
      "cell_type": "markdown",
      "metadata": {
        "id": "BHqXnJ2shOpr"
      },
      "source": [
        "Statistical Functions in Array"
      ]
    },
    {
      "cell_type": "code",
      "execution_count": 21,
      "metadata": {
        "colab": {
          "base_uri": "https://localhost:8080/"
        },
        "id": "HKUqBUx2gPVv",
        "outputId": "559b8553-8119-45c7-f5ab-715d2c06747f"
      },
      "outputs": [
        {
          "data": {
            "text/plain": [
              "2.0"
            ]
          },
          "execution_count": 21,
          "metadata": {},
          "output_type": "execute_result"
        }
      ],
      "source": [
        "array_1D.mean()"
      ]
    },
    {
      "cell_type": "code",
      "execution_count": 22,
      "metadata": {
        "colab": {
          "base_uri": "https://localhost:8080/"
        },
        "id": "oAHUZq_Agai0",
        "outputId": "abae3cb9-e95a-4b01-e71a-5c707c65ca0f"
      },
      "outputs": [
        {
          "data": {
            "text/plain": [
              "1.707825127659933"
            ]
          },
          "execution_count": 22,
          "metadata": {},
          "output_type": "execute_result"
        }
      ],
      "source": [
        "array_2D.std()"
      ]
    },
    {
      "cell_type": "code",
      "execution_count": 23,
      "metadata": {
        "colab": {
          "base_uri": "https://localhost:8080/"
        },
        "id": "RKr11zp4gfLk",
        "outputId": "32fb9cec-4a45-4abe-ff33-9e6ab5db83a5"
      },
      "outputs": [
        {
          "data": {
            "text/plain": [
              "6.0"
            ]
          },
          "execution_count": 23,
          "metadata": {},
          "output_type": "execute_result"
        }
      ],
      "source": [
        "np.median(array_3D)"
      ]
    },
    {
      "cell_type": "code",
      "execution_count": 24,
      "metadata": {
        "colab": {
          "base_uri": "https://localhost:8080/"
        },
        "id": "mRaHITAQglk3",
        "outputId": "ccb2ecdc-75ca-4fcb-ed98-717dc2d75108"
      },
      "outputs": [
        {
          "data": {
            "text/plain": [
              "array([[ 0.        ,  0.84147098,  0.90929743,  0.14112001],\n",
              "       [-0.7568025 , -0.95892427, -0.2794155 ,  0.6569866 ],\n",
              "       [ 0.98935825,  0.41211849, -0.54402111, -0.99999021],\n",
              "       [-0.53657292,  0.42016704,  0.99060736,  0.65028784],\n",
              "       [-0.28790332, -0.96139749, -0.75098725,  0.14987721],\n",
              "       [ 0.91294525,  0.83665564, -0.00885131, -0.8462204 ]])"
            ]
          },
          "execution_count": 24,
          "metadata": {},
          "output_type": "execute_result"
        }
      ],
      "source": [
        "np.sin(reshape_array)"
      ]
    },
    {
      "cell_type": "code",
      "execution_count": 25,
      "metadata": {
        "colab": {
          "base_uri": "https://localhost:8080/"
        },
        "id": "Z5frx58ugqP2",
        "outputId": "42694091-84f4-4596-c085-01ac2bdcfe46"
      },
      "outputs": [
        {
          "name": "stdout",
          "output_type": "stream",
          "text": [
            "[[1 2 3]\n",
            " [4 5 6]]\n"
          ]
        },
        {
          "data": {
            "text/plain": [
              "array([[1, 4],\n",
              "       [2, 5],\n",
              "       [3, 6]])"
            ]
          },
          "execution_count": 25,
          "metadata": {},
          "output_type": "execute_result"
        }
      ],
      "source": [
        "print(array_2D)\n",
        "array_2D.transpose()"
      ]
    },
    {
      "cell_type": "code",
      "execution_count": null,
      "metadata": {
        "colab": {
          "base_uri": "https://localhost:8080/"
        },
        "id": "yAolz7xRjI_R",
        "outputId": "37eccfdd-0ad8-4740-a2bc-5b464deb9917"
      },
      "outputs": [],
      "source": []
    },
    {
      "cell_type": "code",
      "execution_count": null,
      "metadata": {
        "id": "L8B07u8jjPH0"
      },
      "outputs": [],
      "source": []
    }
  ],
  "metadata": {
    "colab": {
      "gpuType": "T4",
      "provenance": []
    },
    "kernelspec": {
      "display_name": "Python 3",
      "name": "python3"
    },
    "language_info": {
      "codemirror_mode": {
        "name": "ipython",
        "version": 3
      },
      "file_extension": ".py",
      "mimetype": "text/x-python",
      "name": "python",
      "nbconvert_exporter": "python",
      "pygments_lexer": "ipython3",
      "version": "3.11.5"
    }
  },
  "nbformat": 4,
  "nbformat_minor": 0
}
