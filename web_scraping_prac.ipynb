{
  "nbformat": 4,
  "nbformat_minor": 0,
  "metadata": {
    "colab": {
      "provenance": []
    },
    "kernelspec": {
      "name": "python3",
      "display_name": "Python 3"
    },
    "language_info": {
      "name": "python"
    }
  },
  "cells": [
    {
      "cell_type": "code",
      "execution_count": 1,
      "metadata": {
        "id": "_5PMMpkAnxpK"
      },
      "outputs": [],
      "source": [
        "from bs4 import BeautifulSoup"
      ]
    },
    {
      "cell_type": "code",
      "source": [
        "with open('/content/prac.html','r') as f:\n",
        "  html_doc = f.read()"
      ],
      "metadata": {
        "id": "A0bVoZOGwJra"
      },
      "execution_count": 38,
      "outputs": []
    },
    {
      "cell_type": "code",
      "source": [
        "soup = BeautifulSoup(html_doc,'html.parser')"
      ],
      "metadata": {
        "id": "WGuXcVUCq0V8"
      },
      "execution_count": 39,
      "outputs": []
    },
    {
      "cell_type": "code",
      "source": [
        "doc = soup.prettify()"
      ],
      "metadata": {
        "id": "pQ4WHB3Xrb_C"
      },
      "execution_count": 40,
      "outputs": []
    },
    {
      "cell_type": "code",
      "source": [
        "# print(doc)"
      ],
      "metadata": {
        "id": "ESf8C08utEij"
      },
      "execution_count": 6,
      "outputs": []
    },
    {
      "cell_type": "code",
      "source": [
        "soup.title"
      ],
      "metadata": {
        "colab": {
          "base_uri": "https://localhost:8080/"
        },
        "id": "pR_IV29ztGLH",
        "outputId": "1cecfe5d-252e-48dd-892f-1b11f62652ae"
      },
      "execution_count": 7,
      "outputs": [
        {
          "output_type": "execute_result",
          "data": {
            "text/plain": [
              "<title>Test - A Sample Website</title>"
            ]
          },
          "metadata": {},
          "execution_count": 7
        }
      ]
    },
    {
      "cell_type": "code",
      "source": [
        "soup.title.string"
      ],
      "metadata": {
        "colab": {
          "base_uri": "https://localhost:8080/",
          "height": 36
        },
        "id": "-w0ZROfew2Qo",
        "outputId": "eaff6dae-10f3-402f-8ddf-bf2aed6c2229"
      },
      "execution_count": 8,
      "outputs": [
        {
          "output_type": "execute_result",
          "data": {
            "text/plain": [
              "'Test - A Sample Website'"
            ],
            "application/vnd.google.colaboratory.intrinsic+json": {
              "type": "string"
            }
          },
          "metadata": {},
          "execution_count": 8
        }
      ]
    },
    {
      "cell_type": "code",
      "source": [
        "soup.title.name"
      ],
      "metadata": {
        "colab": {
          "base_uri": "https://localhost:8080/",
          "height": 36
        },
        "id": "Df2prG0axH3Y",
        "outputId": "22ecf875-449a-46e9-b7b8-26f6baf3d39b"
      },
      "execution_count": 9,
      "outputs": [
        {
          "output_type": "execute_result",
          "data": {
            "text/plain": [
              "'title'"
            ],
            "application/vnd.google.colaboratory.intrinsic+json": {
              "type": "string"
            }
          },
          "metadata": {},
          "execution_count": 9
        }
      ]
    },
    {
      "cell_type": "code",
      "source": [
        "soup.title.parent.name"
      ],
      "metadata": {
        "colab": {
          "base_uri": "https://localhost:8080/",
          "height": 36
        },
        "id": "Ndf6fdFsxNL6",
        "outputId": "cf65e362-5638-4671-b10a-04310618004b"
      },
      "execution_count": 10,
      "outputs": [
        {
          "output_type": "execute_result",
          "data": {
            "text/plain": [
              "'head'"
            ],
            "application/vnd.google.colaboratory.intrinsic+json": {
              "type": "string"
            }
          },
          "metadata": {},
          "execution_count": 10
        }
      ]
    },
    {
      "cell_type": "code",
      "source": [
        "soup.p"
      ],
      "metadata": {
        "colab": {
          "base_uri": "https://localhost:8080/"
        },
        "id": "wItQeXK_xRzG",
        "outputId": "f91670fe-9a8f-4195-c839-65163777f566"
      },
      "execution_count": 11,
      "outputs": [
        {
          "output_type": "execute_result",
          "data": {
            "text/plain": [
              "<p>This is a summary of article 1</p>"
            ]
          },
          "metadata": {},
          "execution_count": 11
        }
      ]
    },
    {
      "cell_type": "code",
      "source": [
        "soup.p['class']"
      ],
      "metadata": {
        "colab": {
          "base_uri": "https://localhost:8080/"
        },
        "id": "MrewUV8hxjUh",
        "outputId": "80169610-8f9f-45b8-87bd-4c92a0c9b742"
      },
      "execution_count": null,
      "outputs": [
        {
          "output_type": "execute_result",
          "data": {
            "text/plain": [
              "['title']"
            ]
          },
          "metadata": {},
          "execution_count": 26
        }
      ]
    },
    {
      "cell_type": "code",
      "source": [
        "# soup.p['id']"
      ],
      "metadata": {
        "id": "H836Zyysxq6p"
      },
      "execution_count": null,
      "outputs": []
    },
    {
      "cell_type": "code",
      "source": [
        "soup.a"
      ],
      "metadata": {
        "colab": {
          "base_uri": "https://localhost:8080/"
        },
        "id": "8vhErrbsx0fz",
        "outputId": "054ba27e-ad27-4aa2-86a0-6a80a9c83186"
      },
      "execution_count": 12,
      "outputs": [
        {
          "output_type": "execute_result",
          "data": {
            "text/plain": [
              "<a href=\"article_1.html\">Article 1 Headline</a>"
            ]
          },
          "metadata": {},
          "execution_count": 12
        }
      ]
    },
    {
      "cell_type": "code",
      "source": [
        "soup.find_all('a')"
      ],
      "metadata": {
        "colab": {
          "base_uri": "https://localhost:8080/"
        },
        "id": "kVWTlDebyEyX",
        "outputId": "3d95e370-df92-4bca-a740-270ee56dc1e5"
      },
      "execution_count": 13,
      "outputs": [
        {
          "output_type": "execute_result",
          "data": {
            "text/plain": [
              "[<a href=\"article_1.html\">Article 1 Headline</a>,\n",
              " <a href=\"article_2.html\">Article 2 Headline</a>]"
            ]
          },
          "metadata": {},
          "execution_count": 13
        }
      ]
    },
    {
      "cell_type": "code",
      "source": [
        "soup.find(class_='article')"
      ],
      "metadata": {
        "colab": {
          "base_uri": "https://localhost:8080/"
        },
        "id": "beSr6Ik8yK0R",
        "outputId": "bd8ca4a1-7e32-4b4a-f775-61794e4b6763"
      },
      "execution_count": 14,
      "outputs": [
        {
          "output_type": "execute_result",
          "data": {
            "text/plain": [
              "<div class=\"article\">\n",
              "<h2><a href=\"article_1.html\">Article 1 Headline</a></h2>\n",
              "<p>This is a summary of article 1</p>\n",
              "</div>"
            ]
          },
          "metadata": {},
          "execution_count": 14
        }
      ]
    },
    {
      "cell_type": "markdown",
      "source": [
        "***Extracting all the URLs found within a page’s anchor tags.***"
      ],
      "metadata": {
        "id": "lOsaVw88154-"
      }
    },
    {
      "cell_type": "code",
      "source": [
        "for link in soup.find_all('a'):\n",
        "  print(link.get('href'))\n",
        ""
      ],
      "metadata": {
        "id": "qI_ROuJ-y3fa",
        "colab": {
          "base_uri": "https://localhost:8080/"
        },
        "outputId": "6ecbd651-a582-4c06-ab75-f6035a4bfd0b"
      },
      "execution_count": 18,
      "outputs": [
        {
          "output_type": "stream",
          "name": "stdout",
          "text": [
            "article_1.html\n",
            "article_2.html\n"
          ]
        }
      ]
    },
    {
      "cell_type": "code",
      "source": [
        "for link in soup.find_all(class_='article'):\n",
        "  print(link.h2.a.text)"
      ],
      "metadata": {
        "colab": {
          "base_uri": "https://localhost:8080/"
        },
        "id": "Afc5RmHc1HtY",
        "outputId": "95a12de1-3516-4c4f-d45a-65be47c35fac"
      },
      "execution_count": 28,
      "outputs": [
        {
          "output_type": "stream",
          "name": "stdout",
          "text": [
            "Article 1 Headline\n",
            "Article 2 Headline\n"
          ]
        }
      ]
    },
    {
      "cell_type": "code",
      "source": [
        "for link in soup.find_all(class_='article'):\n",
        "  print(link.h2.a.get('href'))"
      ],
      "metadata": {
        "colab": {
          "base_uri": "https://localhost:8080/"
        },
        "id": "dqO6l_gD1NlK",
        "outputId": "f5a51412-1d31-4db6-f5da-6317fea687d8"
      },
      "execution_count": 30,
      "outputs": [
        {
          "output_type": "stream",
          "name": "stdout",
          "text": [
            "article_1.html\n",
            "article_2.html\n"
          ]
        }
      ]
    },
    {
      "cell_type": "markdown",
      "source": [
        "***Extracting all the text from a page.***"
      ],
      "metadata": {
        "id": "vXtLpqBO2i4x"
      }
    },
    {
      "cell_type": "code",
      "source": [
        "# print(soup.get_text())"
      ],
      "metadata": {
        "id": "LschsfBv2pWH"
      },
      "execution_count": 22,
      "outputs": []
    },
    {
      "cell_type": "code",
      "source": [
        "for link in soup.find_all(class_='article'):\n",
        "  print(link.p.text)"
      ],
      "metadata": {
        "id": "zs0a6gY42yBl",
        "colab": {
          "base_uri": "https://localhost:8080/"
        },
        "outputId": "2bd12d72-1b5a-403f-8edc-93ba15973fe5"
      },
      "execution_count": 34,
      "outputs": [
        {
          "output_type": "stream",
          "name": "stdout",
          "text": [
            "This is a summary of article 1\n",
            "This is a summary of article 2\n"
          ]
        }
      ]
    },
    {
      "cell_type": "code",
      "source": [
        "for link in soup.find_all(class_='footer'):\n",
        "  print(link.p.text)"
      ],
      "metadata": {
        "colab": {
          "base_uri": "https://localhost:8080/"
        },
        "id": "vrybQGNK0PEJ",
        "outputId": "870a8f4d-a55f-4c45-cbaa-abbfd62510f5"
      },
      "execution_count": 35,
      "outputs": [
        {
          "output_type": "stream",
          "name": "stdout",
          "text": [
            "Footer Information\n"
          ]
        }
      ]
    },
    {
      "cell_type": "code",
      "source": [
        "print(soup.h1.text)"
      ],
      "metadata": {
        "colab": {
          "base_uri": "https://localhost:8080/"
        },
        "id": "iL-NJcH60rzr",
        "outputId": "9b04b43b-64d1-479c-a137-3ab0fe8d93c9"
      },
      "execution_count": 37,
      "outputs": [
        {
          "output_type": "stream",
          "name": "stdout",
          "text": [
            "Test Website\n"
          ]
        }
      ]
    },
    {
      "cell_type": "code",
      "source": [
        "for foot in soup.find_all('div',class_='footer'):\n",
        "  for div_tag in foot('div'):\n",
        "    print(div_tag.p.text)"
      ],
      "metadata": {
        "colab": {
          "base_uri": "https://localhost:8080/"
        },
        "id": "YNkrl2AL13A1",
        "outputId": "ba50f54f-4290-4ee6-d25d-fd880dfe49c4"
      },
      "execution_count": 41,
      "outputs": [
        {
          "output_type": "stream",
          "name": "stdout",
          "text": [
            "div inside div\n"
          ]
        }
      ]
    },
    {
      "cell_type": "code",
      "source": [],
      "metadata": {
        "id": "7JFlDDi54Q7a"
      },
      "execution_count": null,
      "outputs": []
    }
  ]
}